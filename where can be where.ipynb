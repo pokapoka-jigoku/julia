{
 "cells": [
  {
   "cell_type": "markdown",
   "id": "needed-radical",
   "metadata": {},
   "source": [
    "# 関数定義における`where` "
   ]
  },
  {
   "cell_type": "code",
   "execution_count": 1,
   "id": "supposed-library",
   "metadata": {},
   "outputs": [
    {
     "ename": "LoadError",
     "evalue": "UndefVarError: T not defined",
     "output_type": "error",
     "traceback": [
      "UndefVarError: T not defined",
      "",
      "Stacktrace:",
      " [1] top-level scope",
      "   @ In[1]:2",
      " [2] eval",
      "   @ ./boot.jl:360 [inlined]",
      " [3] include_string(mapexpr::typeof(REPL.softscope), mod::Module, code::String, filename::String)",
      "   @ Base ./loading.jl:1116"
     ]
    }
   ],
   "source": [
    "# この形の表記はv1.0以降は使えない\n",
    "function hoge_1{T<:Integer}(a::Array{T})\n",
    "           :ok\n",
    "end"
   ]
  },
  {
   "cell_type": "code",
   "execution_count": 2,
   "id": "coupled-strategy",
   "metadata": {},
   "outputs": [
    {
     "ename": "LoadError",
     "evalue": "UndefVarError: hoge_2 not defined",
     "output_type": "error",
     "traceback": [
      "UndefVarError: hoge_2 not defined",
      "",
      "Stacktrace:",
      " [1] top-level scope",
      "   @ In[2]:2",
      " [2] eval",
      "   @ ./boot.jl:360 [inlined]",
      " [3] include_string(mapexpr::typeof(REPL.softscope), mod::Module, code::String, filename::String)",
      "   @ Base ./loading.jl:1116"
     ]
    }
   ],
   "source": [
    "# `<:` が悪いわけでもない\n",
    "function hoge_2{T}(a::Array{T})\n",
    "    :ok\n",
    "end"
   ]
  },
  {
   "cell_type": "code",
   "execution_count": 3,
   "id": "individual-toilet",
   "metadata": {},
   "outputs": [
    {
     "data": {
      "text/plain": [
       "hoge_3 (generic function with 1 method)"
      ]
     },
     "execution_count": 3,
     "metadata": {},
     "output_type": "execute_result"
    }
   ],
   "source": [
    "# 関数で型変数を使うときは、`where`を使う\n",
    "function hoge_3(a::Array{T}) where T<:Integer\n",
    "    :ok\n",
    "end"
   ]
  },
  {
   "cell_type": "code",
   "execution_count": 4,
   "id": "alert-christopher",
   "metadata": {},
   "outputs": [
    {
     "data": {
      "text/html": [
       "# 1 method for generic function <b>hoge_3</b>:<ul><li> hoge_3(a::<b>Array{T, N} where N</b>)<i> where T<:Integer</i> in Main at In[3]:2</li> </ul>"
      ],
      "text/plain": [
       "# 1 method for generic function \"hoge_3\":\n",
       "[1] hoge_3(a::Array{T, N} where N) where T<:Integer in Main at In[3]:2"
      ]
     },
     "execution_count": 4,
     "metadata": {},
     "output_type": "execute_result"
    }
   ],
   "source": [
    "methods(hoge_3)"
   ]
  },
  {
   "cell_type": "code",
   "execution_count": 5,
   "id": "senior-negotiation",
   "metadata": {},
   "outputs": [
    {
     "data": {
      "text/plain": [
       "hoge_4 (generic function with 1 method)"
      ]
     },
     "execution_count": 5,
     "metadata": {},
     "output_type": "execute_result"
    }
   ],
   "source": [
    "# whereのスコープちがい\n",
    "function hoge_4(a::Array{T} where T<:Integer)\n",
    "    :ok\n",
    "end"
   ]
  },
  {
   "cell_type": "code",
   "execution_count": 6,
   "id": "terminal-market",
   "metadata": {},
   "outputs": [
    {
     "data": {
      "text/html": [
       "# 1 method for generic function <b>hoge_4</b>:<ul><li> hoge_4(a::<b>Array{T, N} where {T<:Integer, N}</b>) in Main at In[5]:2</li> </ul>"
      ],
      "text/plain": [
       "# 1 method for generic function \"hoge_4\":\n",
       "[1] hoge_4(a::Array{T, N} where {T<:Integer, N}) in Main at In[5]:2"
      ]
     },
     "execution_count": 6,
     "metadata": {},
     "output_type": "execute_result"
    }
   ],
   "source": [
    "methods(hoge_4)"
   ]
  },
  {
   "cell_type": "code",
   "execution_count": 7,
   "id": "vocational-outdoors",
   "metadata": {},
   "outputs": [
    {
     "data": {
      "text/html": [
       "# 1 method for generic function <b>hoge_5</b>:<ul><li> hoge_5(a::<b>Array{T, N} where N</b>)<i> where T<:Integer</i> in Main at In[7]:1</li> </ul>"
      ],
      "text/plain": [
       "# 1 method for generic function \"hoge_5\":\n",
       "[1] hoge_5(a::Array{T, N} where N) where T<:Integer in Main at In[7]:1"
      ]
     },
     "execution_count": 7,
     "metadata": {},
     "output_type": "execute_result"
    }
   ],
   "source": [
    "function hoge_5(a::Array{T}) where T<:Integer\n",
    "    T\n",
    "end\n",
    "methods(hoge_5)"
   ]
  },
  {
   "cell_type": "code",
   "execution_count": 8,
   "id": "unauthorized-evolution",
   "metadata": {},
   "outputs": [
    {
     "data": {
      "text/plain": [
       "Int64"
      ]
     },
     "execution_count": 8,
     "metadata": {},
     "output_type": "execute_result"
    }
   ],
   "source": [
    "hoge_5([1, 2, 3])"
   ]
  },
  {
   "cell_type": "code",
   "execution_count": 9,
   "id": "increased-scout",
   "metadata": {},
   "outputs": [
    {
     "data": {
      "text/html": [
       "# 1 method for generic function <b>hoge_6</b>:<ul><li> hoge_6(a::<b>Array{T, N} where {T<:Integer, N}</b>) in Main at In[9]:1</li> </ul>"
      ],
      "text/plain": [
       "# 1 method for generic function \"hoge_6\":\n",
       "[1] hoge_6(a::Array{T, N} where {T<:Integer, N}) in Main at In[9]:1"
      ]
     },
     "execution_count": 9,
     "metadata": {},
     "output_type": "execute_result"
    }
   ],
   "source": [
    "function hoge_6(a::Array{T} where T<:Integer)\n",
    "    T\n",
    "end\n",
    "methods(hoge_6)"
   ]
  },
  {
   "cell_type": "code",
   "execution_count": 10,
   "id": "extra-toyota",
   "metadata": {},
   "outputs": [
    {
     "ename": "LoadError",
     "evalue": "UndefVarError: T not defined",
     "output_type": "error",
     "traceback": [
      "UndefVarError: T not defined",
      "",
      "Stacktrace:",
      " [1] hoge_6(a::Vector{Int64})",
      "   @ Main ./In[9]:2",
      " [2] top-level scope",
      "   @ In[10]:1",
      " [3] eval",
      "   @ ./boot.jl:360 [inlined]",
      " [4] include_string(mapexpr::typeof(REPL.softscope), mod::Module, code::String, filename::String)",
      "   @ Base ./loading.jl:1116"
     ]
    }
   ],
   "source": [
    "hoge_6([1, 2, 3])"
   ]
  },
  {
   "cell_type": "code",
   "execution_count": 11,
   "id": "sensitive-watts",
   "metadata": {},
   "outputs": [
    {
     "data": {
      "text/html": [
       "# 2 methods for generic function <b>hoge_8</b>:<ul><li> hoge_8(a::<b>T</b>, b::<b>T</b>)<i> where T<:Integer</i> in Main at In[11]:6</li> <li> hoge_8(a::<b>Integer</b>, b::<b>Integer</b>) in Main at In[11]:2</li> </ul>"
      ],
      "text/plain": [
       "# 2 methods for generic function \"hoge_8\":\n",
       "[1] hoge_8(a::T, b::T) where T<:Integer in Main at In[11]:6\n",
       "[2] hoge_8(a::Integer, b::Integer) in Main at In[11]:2"
      ]
     },
     "execution_count": 11,
     "metadata": {},
     "output_type": "execute_result"
    }
   ],
   "source": [
    "# function hoge_7(a::Integer) と function hoge_7(a::T) where T<:Integer は両立しないが、\n",
    "function hoge_8(a::Integer, b::Integer)\n",
    "    (a,b)\n",
    "end\n",
    "\n",
    "function hoge_8(a::T, b::T) where T <: Integer\n",
    "    (a,b)\n",
    "end\n",
    "\n",
    "# この2つはもちろん両立する。\n",
    "methods(hoge_8)"
   ]
  },
  {
   "cell_type": "markdown",
   "id": "interstate-checkout",
   "metadata": {},
   "source": [
    "# `struct` "
   ]
  },
  {
   "cell_type": "code",
   "execution_count": null,
   "id": "colonial-trigger",
   "metadata": {},
   "outputs": [],
   "source": [
    "# structでは`where`は使えない\n",
    "struct fuga_1{T} where T\n",
    "    a::T\n",
    "end"
   ]
  },
  {
   "cell_type": "code",
   "execution_count": null,
   "id": "surface-drink",
   "metadata": {},
   "outputs": [],
   "source": [
    "# まあ使わなくていいからね\n",
    "struct fuga_2{T}\n",
    "    a::T\n",
    "end"
   ]
  },
  {
   "cell_type": "code",
   "execution_count": null,
   "id": "finnish-rochester",
   "metadata": {},
   "outputs": [],
   "source": [
    "# 関数とちがってこれはいけるんかい！\n",
    "struct fuga_3{T <: Integer}\n",
    "    a::T\n",
    "end"
   ]
  },
  {
   "cell_type": "code",
   "execution_count": null,
   "id": "seventh-marks",
   "metadata": {},
   "outputs": [],
   "source": []
  }
 ],
 "metadata": {
  "kernelspec": {
   "display_name": "Julia 1.6.2",
   "language": "julia",
   "name": "julia-1.6"
  },
  "language_info": {
   "file_extension": ".jl",
   "mimetype": "application/julia",
   "name": "julia",
   "version": "1.6.2"
  }
 },
 "nbformat": 4,
 "nbformat_minor": 5
}
